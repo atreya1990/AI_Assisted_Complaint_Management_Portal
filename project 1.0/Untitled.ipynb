{
 "cells": [
  {
   "cell_type": "code",
   "execution_count": 1,
   "metadata": {},
   "outputs": [
    {
     "name": "stdout",
     "output_type": "stream",
     "text": [
      "Table UserVitals created successfully.\n"
     ]
    },
    {
     "name": "stderr",
     "output_type": "stream",
     "text": [
      "C:\\Users\\raora\\anaconda3\\lib\\site-packages\\pandas\\io\\sql.py:1423: UserWarning: The provided table name 'UserVitals' is not found exactly as such in the database after writing the table, possibly due to case sensitivity issues. Consider using lower case table names.\n",
      "  warnings.warn(msg, UserWarning)\n"
     ]
    }
   ],
   "source": [
    "from sqlalchemy import create_engine\n",
    "\n",
    "import pymysql\n",
    "\n",
    "import pandas as pd\n",
    "\n",
    " \n",
    "\n",
    "userVitals = {\"UserId\":[\"xxxxx\", \"yyyyy\", \"zzzzz\", \"aaaaa\", \"bbbbb\", \"ccccc\", \"ddddd\"],\n",
    "\n",
    "            \"UserFavourite\":[\"Greek Salad\", \"Philly Cheese Steak\", \"Turkey Burger\", \"Crispy Orange Chicken\", \"Atlantic Salmon\", \"Pot roast\", \"Banana split\"],\n",
    "\n",
    "            \"MonthlyOrderFrequency\":[5, 1, 2, 2, 7, 6, 1],\n",
    "\n",
    "            \"HighestOrderAmount\":[30, 20, 16, 23, 20, 26, 9],\n",
    "\n",
    "            \"LastOrderAmount\":[21,20,4,11,7,7,7],\n",
    "\n",
    "            \"LastOrderRating\":[3,3,3,2,3,2,4],\n",
    "\n",
    "            \"AverageOrderRating\":[3,4,2,1,3,4,3],\n",
    "\n",
    "            \"OrderMode\":[\"Web\", \"App\", \"App\", \"App\", \"Web\", \"Web\", \"App\"],\n",
    "\n",
    "            \"InMedicalCare\":[\"No\", \"No\", \"No\", \"No\", \"Yes\", \"No\", \"No\"]};\n",
    "\n",
    " \n",
    "\n",
    "tableName   = \"UserVitals\"\n",
    "\n",
    "dataFrame   = pd.DataFrame(data=userVitals)           \n",
    "\n",
    " \n",
    "\n",
    "sqlEngine       = create_engine('mysql+pymysql://root:@localhost/test', pool_recycle=3600)\n",
    "\n",
    "dbConnection    = sqlEngine.connect()\n",
    "\n",
    " \n",
    "\n",
    "try:\n",
    "\n",
    "    frame           = dataFrame.to_sql(tableName, dbConnection, if_exists='fail');\n",
    "\n",
    "except ValueError as vx:\n",
    "\n",
    "    print(vx)\n",
    "\n",
    "except Exception as ex:   \n",
    "\n",
    "    print(ex)\n",
    "\n",
    "else:\n",
    "\n",
    "    print(\"Table %s created successfully.\"%tableName);   \n",
    "\n",
    "finally:\n",
    "\n",
    "    dbConnection.close()"
   ]
  },
  {
   "cell_type": "code",
   "execution_count": null,
   "metadata": {},
   "outputs": [],
   "source": []
  }
 ],
 "metadata": {
  "kernelspec": {
   "display_name": "Python 3",
   "language": "python",
   "name": "python3"
  },
  "language_info": {
   "codemirror_mode": {
    "name": "ipython",
    "version": 3
   },
   "file_extension": ".py",
   "mimetype": "text/x-python",
   "name": "python",
   "nbconvert_exporter": "python",
   "pygments_lexer": "ipython3",
   "version": "3.8.5"
  }
 },
 "nbformat": 4,
 "nbformat_minor": 4
}
