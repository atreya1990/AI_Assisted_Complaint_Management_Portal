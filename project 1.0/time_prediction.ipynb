{
 "cells": [
  {
   "cell_type": "code",
   "execution_count": 1,
   "metadata": {},
   "outputs": [],
   "source": [
    "import numpy as np\n",
    "import pandas as pd\n",
    "import seaborn as sns\n",
    "from statsmodels.formula.api import ols      # For n-way ANOVA\n",
    "from statsmodels.stats.anova import _get_covariance,anova_lm # For n-way ANOVA\n",
    "%matplotlib inline"
   ]
  },
  {
   "cell_type": "code",
   "execution_count": 2,
   "metadata": {},
   "outputs": [],
   "source": [
    "df = pd.read_excel(\"Municipal complaints.xlsx\")"
   ]
  },
  {
   "cell_type": "code",
   "execution_count": 3,
   "metadata": {},
   "outputs": [
    {
     "data": {
      "text/html": [
       "<div>\n",
       "<style scoped>\n",
       "    .dataframe tbody tr th:only-of-type {\n",
       "        vertical-align: middle;\n",
       "    }\n",
       "\n",
       "    .dataframe tbody tr th {\n",
       "        vertical-align: top;\n",
       "    }\n",
       "\n",
       "    .dataframe thead th {\n",
       "        text-align: right;\n",
       "    }\n",
       "</style>\n",
       "<table border=\"1\" class=\"dataframe\">\n",
       "  <thead>\n",
       "    <tr style=\"text-align: right;\">\n",
       "      <th></th>\n",
       "      <th>Category</th>\n",
       "      <th>Status</th>\n",
       "      <th>Media</th>\n",
       "      <th>Open Date</th>\n",
       "      <th>Closed Date</th>\n",
       "      <th>Age</th>\n",
       "      <th>Ward Office</th>\n",
       "    </tr>\n",
       "  </thead>\n",
       "  <tbody>\n",
       "    <tr>\n",
       "      <th>0</th>\n",
       "      <td>Garbage</td>\n",
       "      <td>CLOSED</td>\n",
       "      <td>Swachhata App</td>\n",
       "      <td>01/01/2017</td>\n",
       "      <td>02/01/2017</td>\n",
       "      <td>31</td>\n",
       "      <td>Yerawda</td>\n",
       "    </tr>\n",
       "    <tr>\n",
       "      <th>1</th>\n",
       "      <td>Garbage</td>\n",
       "      <td>CLOSED</td>\n",
       "      <td>Swachhata App</td>\n",
       "      <td>01/01/2017</td>\n",
       "      <td>02/01/2017</td>\n",
       "      <td>31</td>\n",
       "      <td>Dhankawadi</td>\n",
       "    </tr>\n",
       "    <tr>\n",
       "      <th>2</th>\n",
       "      <td>Garbage</td>\n",
       "      <td>CLOSED</td>\n",
       "      <td>Swachhata App</td>\n",
       "      <td>01/01/2017</td>\n",
       "      <td>03/01/2017</td>\n",
       "      <td>59</td>\n",
       "      <td>Kasba</td>\n",
       "    </tr>\n",
       "    <tr>\n",
       "      <th>3</th>\n",
       "      <td>Garbage</td>\n",
       "      <td>CLOSED</td>\n",
       "      <td>Swachhata App</td>\n",
       "      <td>01/01/2017</td>\n",
       "      <td>02/01/2017</td>\n",
       "      <td>31</td>\n",
       "      <td>Yerawda</td>\n",
       "    </tr>\n",
       "    <tr>\n",
       "      <th>4</th>\n",
       "      <td>Garbage</td>\n",
       "      <td>CLOSED</td>\n",
       "      <td>Swachhata App</td>\n",
       "      <td>01/01/2017</td>\n",
       "      <td>03/01/2017</td>\n",
       "      <td>59</td>\n",
       "      <td>Kothrud</td>\n",
       "    </tr>\n",
       "    <tr>\n",
       "      <th>5</th>\n",
       "      <td>Garbage</td>\n",
       "      <td>CLOSED</td>\n",
       "      <td>Swachhata App</td>\n",
       "      <td>01/01/2017</td>\n",
       "      <td>02/01/2017</td>\n",
       "      <td>31</td>\n",
       "      <td>Warje</td>\n",
       "    </tr>\n",
       "    <tr>\n",
       "      <th>6</th>\n",
       "      <td>Garbage</td>\n",
       "      <td>CLOSED</td>\n",
       "      <td>Swachhata App</td>\n",
       "      <td>01/01/2017</td>\n",
       "      <td>02/01/2017</td>\n",
       "      <td>31</td>\n",
       "      <td>Shivajinagar</td>\n",
       "    </tr>\n",
       "    <tr>\n",
       "      <th>7</th>\n",
       "      <td>Drainage</td>\n",
       "      <td>CLOSED</td>\n",
       "      <td>Citizen</td>\n",
       "      <td>01/01/2017</td>\n",
       "      <td>2017-02-01 00:00:00</td>\n",
       "      <td>31</td>\n",
       "      <td>Nagar Road</td>\n",
       "    </tr>\n",
       "    <tr>\n",
       "      <th>8</th>\n",
       "      <td>Garbage</td>\n",
       "      <td>CLOSED</td>\n",
       "      <td>Swachhata App</td>\n",
       "      <td>01/01/2017</td>\n",
       "      <td>02/01/2017</td>\n",
       "      <td>31</td>\n",
       "      <td>Kothrud</td>\n",
       "    </tr>\n",
       "    <tr>\n",
       "      <th>9</th>\n",
       "      <td>Garbage</td>\n",
       "      <td>CLOSED</td>\n",
       "      <td>Swachhata App</td>\n",
       "      <td>01/01/2017</td>\n",
       "      <td>02/01/2017</td>\n",
       "      <td>31</td>\n",
       "      <td>Dhankawadi</td>\n",
       "    </tr>\n",
       "  </tbody>\n",
       "</table>\n",
       "</div>"
      ],
      "text/plain": [
       "   Category  Status          Media   Open Date          Closed Date  Age  \\\n",
       "0   Garbage  CLOSED  Swachhata App  01/01/2017           02/01/2017   31   \n",
       "1   Garbage  CLOSED  Swachhata App  01/01/2017           02/01/2017   31   \n",
       "2   Garbage  CLOSED  Swachhata App  01/01/2017           03/01/2017   59   \n",
       "3   Garbage  CLOSED  Swachhata App  01/01/2017           02/01/2017   31   \n",
       "4   Garbage  CLOSED  Swachhata App  01/01/2017           03/01/2017   59   \n",
       "5   Garbage  CLOSED  Swachhata App  01/01/2017           02/01/2017   31   \n",
       "6   Garbage  CLOSED  Swachhata App  01/01/2017           02/01/2017   31   \n",
       "7  Drainage  CLOSED        Citizen  01/01/2017  2017-02-01 00:00:00   31   \n",
       "8   Garbage  CLOSED  Swachhata App  01/01/2017           02/01/2017   31   \n",
       "9   Garbage  CLOSED  Swachhata App  01/01/2017           02/01/2017   31   \n",
       "\n",
       "    Ward Office  \n",
       "0       Yerawda  \n",
       "1    Dhankawadi  \n",
       "2         Kasba  \n",
       "3       Yerawda  \n",
       "4       Kothrud  \n",
       "5         Warje  \n",
       "6  Shivajinagar  \n",
       "7    Nagar Road  \n",
       "8       Kothrud  \n",
       "9    Dhankawadi  "
      ]
     },
     "execution_count": 3,
     "metadata": {},
     "output_type": "execute_result"
    }
   ],
   "source": [
    "df.head(10)"
   ]
  },
  {
   "cell_type": "code",
   "execution_count": 4,
   "metadata": {},
   "outputs": [],
   "source": [
    "df =df.drop([\"Open Date\"], axis=1)"
   ]
  },
  {
   "cell_type": "code",
   "execution_count": 5,
   "metadata": {},
   "outputs": [],
   "source": [
    "df =df.drop([\"Closed Date\"], axis=1)"
   ]
  },
  {
   "cell_type": "code",
   "execution_count": 6,
   "metadata": {},
   "outputs": [
    {
     "data": {
      "text/html": [
       "<div>\n",
       "<style scoped>\n",
       "    .dataframe tbody tr th:only-of-type {\n",
       "        vertical-align: middle;\n",
       "    }\n",
       "\n",
       "    .dataframe tbody tr th {\n",
       "        vertical-align: top;\n",
       "    }\n",
       "\n",
       "    .dataframe thead th {\n",
       "        text-align: right;\n",
       "    }\n",
       "</style>\n",
       "<table border=\"1\" class=\"dataframe\">\n",
       "  <thead>\n",
       "    <tr style=\"text-align: right;\">\n",
       "      <th></th>\n",
       "      <th>Category</th>\n",
       "      <th>Status</th>\n",
       "      <th>Media</th>\n",
       "      <th>Age</th>\n",
       "      <th>Ward Office</th>\n",
       "    </tr>\n",
       "  </thead>\n",
       "  <tbody>\n",
       "    <tr>\n",
       "      <th>0</th>\n",
       "      <td>Garbage</td>\n",
       "      <td>CLOSED</td>\n",
       "      <td>Swachhata App</td>\n",
       "      <td>31</td>\n",
       "      <td>Yerawda</td>\n",
       "    </tr>\n",
       "    <tr>\n",
       "      <th>1</th>\n",
       "      <td>Garbage</td>\n",
       "      <td>CLOSED</td>\n",
       "      <td>Swachhata App</td>\n",
       "      <td>31</td>\n",
       "      <td>Dhankawadi</td>\n",
       "    </tr>\n",
       "    <tr>\n",
       "      <th>2</th>\n",
       "      <td>Garbage</td>\n",
       "      <td>CLOSED</td>\n",
       "      <td>Swachhata App</td>\n",
       "      <td>59</td>\n",
       "      <td>Kasba</td>\n",
       "    </tr>\n",
       "    <tr>\n",
       "      <th>3</th>\n",
       "      <td>Garbage</td>\n",
       "      <td>CLOSED</td>\n",
       "      <td>Swachhata App</td>\n",
       "      <td>31</td>\n",
       "      <td>Yerawda</td>\n",
       "    </tr>\n",
       "    <tr>\n",
       "      <th>4</th>\n",
       "      <td>Garbage</td>\n",
       "      <td>CLOSED</td>\n",
       "      <td>Swachhata App</td>\n",
       "      <td>59</td>\n",
       "      <td>Kothrud</td>\n",
       "    </tr>\n",
       "    <tr>\n",
       "      <th>5</th>\n",
       "      <td>Garbage</td>\n",
       "      <td>CLOSED</td>\n",
       "      <td>Swachhata App</td>\n",
       "      <td>31</td>\n",
       "      <td>Warje</td>\n",
       "    </tr>\n",
       "    <tr>\n",
       "      <th>6</th>\n",
       "      <td>Garbage</td>\n",
       "      <td>CLOSED</td>\n",
       "      <td>Swachhata App</td>\n",
       "      <td>31</td>\n",
       "      <td>Shivajinagar</td>\n",
       "    </tr>\n",
       "    <tr>\n",
       "      <th>7</th>\n",
       "      <td>Drainage</td>\n",
       "      <td>CLOSED</td>\n",
       "      <td>Citizen</td>\n",
       "      <td>31</td>\n",
       "      <td>Nagar Road</td>\n",
       "    </tr>\n",
       "    <tr>\n",
       "      <th>8</th>\n",
       "      <td>Garbage</td>\n",
       "      <td>CLOSED</td>\n",
       "      <td>Swachhata App</td>\n",
       "      <td>31</td>\n",
       "      <td>Kothrud</td>\n",
       "    </tr>\n",
       "    <tr>\n",
       "      <th>9</th>\n",
       "      <td>Garbage</td>\n",
       "      <td>CLOSED</td>\n",
       "      <td>Swachhata App</td>\n",
       "      <td>31</td>\n",
       "      <td>Dhankawadi</td>\n",
       "    </tr>\n",
       "  </tbody>\n",
       "</table>\n",
       "</div>"
      ],
      "text/plain": [
       "   Category  Status          Media  Age   Ward Office\n",
       "0   Garbage  CLOSED  Swachhata App   31       Yerawda\n",
       "1   Garbage  CLOSED  Swachhata App   31    Dhankawadi\n",
       "2   Garbage  CLOSED  Swachhata App   59         Kasba\n",
       "3   Garbage  CLOSED  Swachhata App   31       Yerawda\n",
       "4   Garbage  CLOSED  Swachhata App   59       Kothrud\n",
       "5   Garbage  CLOSED  Swachhata App   31         Warje\n",
       "6   Garbage  CLOSED  Swachhata App   31  Shivajinagar\n",
       "7  Drainage  CLOSED        Citizen   31    Nagar Road\n",
       "8   Garbage  CLOSED  Swachhata App   31       Kothrud\n",
       "9   Garbage  CLOSED  Swachhata App   31    Dhankawadi"
      ]
     },
     "execution_count": 6,
     "metadata": {},
     "output_type": "execute_result"
    }
   ],
   "source": [
    "df.head(10)"
   ]
  },
  {
   "cell_type": "code",
   "execution_count": 7,
   "metadata": {},
   "outputs": [
    {
     "name": "stdout",
     "output_type": "stream",
     "text": [
      "<class 'pandas.core.frame.DataFrame'>\n",
      "RangeIndex: 499 entries, 0 to 498\n",
      "Data columns (total 5 columns):\n",
      " #   Column       Non-Null Count  Dtype \n",
      "---  ------       --------------  ----- \n",
      " 0   Category     499 non-null    object\n",
      " 1   Status       499 non-null    object\n",
      " 2   Media        499 non-null    object\n",
      " 3   Age          499 non-null    int64 \n",
      " 4   Ward Office  499 non-null    object\n",
      "dtypes: int64(1), object(4)\n",
      "memory usage: 19.6+ KB\n"
     ]
    }
   ],
   "source": [
    "df.info()"
   ]
  },
  {
   "cell_type": "code",
   "execution_count": 8,
   "metadata": {},
   "outputs": [],
   "source": [
    "for feature in df.columns: \n",
    "    if df[feature].dtype == 'object': \n",
    "        df[feature] = pd.Categorical(df[feature]).codes"
   ]
  },
  {
   "cell_type": "code",
   "execution_count": 9,
   "metadata": {},
   "outputs": [
    {
     "name": "stdout",
     "output_type": "stream",
     "text": [
      "<class 'pandas.core.frame.DataFrame'>\n",
      "RangeIndex: 499 entries, 0 to 498\n",
      "Data columns (total 5 columns):\n",
      " #   Column       Non-Null Count  Dtype\n",
      "---  ------       --------------  -----\n",
      " 0   Category     499 non-null    int8 \n",
      " 1   Status       499 non-null    int8 \n",
      " 2   Media        499 non-null    int8 \n",
      " 3   Age          499 non-null    int64\n",
      " 4   Ward Office  499 non-null    int8 \n",
      "dtypes: int64(1), int8(4)\n",
      "memory usage: 6.0 KB\n"
     ]
    }
   ],
   "source": [
    "df.info()"
   ]
  },
  {
   "cell_type": "code",
   "execution_count": 10,
   "metadata": {},
   "outputs": [
    {
     "data": {
      "text/html": [
       "<div>\n",
       "<style scoped>\n",
       "    .dataframe tbody tr th:only-of-type {\n",
       "        vertical-align: middle;\n",
       "    }\n",
       "\n",
       "    .dataframe tbody tr th {\n",
       "        vertical-align: top;\n",
       "    }\n",
       "\n",
       "    .dataframe thead th {\n",
       "        text-align: right;\n",
       "    }\n",
       "</style>\n",
       "<table border=\"1\" class=\"dataframe\">\n",
       "  <thead>\n",
       "    <tr style=\"text-align: right;\">\n",
       "      <th></th>\n",
       "      <th>Category</th>\n",
       "      <th>Status</th>\n",
       "      <th>Media</th>\n",
       "      <th>Age</th>\n",
       "      <th>Ward Office</th>\n",
       "    </tr>\n",
       "  </thead>\n",
       "  <tbody>\n",
       "    <tr>\n",
       "      <th>0</th>\n",
       "      <td>6</td>\n",
       "      <td>0</td>\n",
       "      <td>5</td>\n",
       "      <td>31</td>\n",
       "      <td>18</td>\n",
       "    </tr>\n",
       "    <tr>\n",
       "      <th>1</th>\n",
       "      <td>6</td>\n",
       "      <td>0</td>\n",
       "      <td>5</td>\n",
       "      <td>31</td>\n",
       "      <td>5</td>\n",
       "    </tr>\n",
       "    <tr>\n",
       "      <th>2</th>\n",
       "      <td>6</td>\n",
       "      <td>0</td>\n",
       "      <td>5</td>\n",
       "      <td>59</td>\n",
       "      <td>9</td>\n",
       "    </tr>\n",
       "    <tr>\n",
       "      <th>3</th>\n",
       "      <td>6</td>\n",
       "      <td>0</td>\n",
       "      <td>5</td>\n",
       "      <td>31</td>\n",
       "      <td>18</td>\n",
       "    </tr>\n",
       "    <tr>\n",
       "      <th>4</th>\n",
       "      <td>6</td>\n",
       "      <td>0</td>\n",
       "      <td>5</td>\n",
       "      <td>59</td>\n",
       "      <td>11</td>\n",
       "    </tr>\n",
       "  </tbody>\n",
       "</table>\n",
       "</div>"
      ],
      "text/plain": [
       "   Category  Status  Media  Age  Ward Office\n",
       "0         6       0      5   31           18\n",
       "1         6       0      5   31            5\n",
       "2         6       0      5   59            9\n",
       "3         6       0      5   31           18\n",
       "4         6       0      5   59           11"
      ]
     },
     "execution_count": 10,
     "metadata": {},
     "output_type": "execute_result"
    }
   ],
   "source": [
    "df.head(5)"
   ]
  },
  {
   "cell_type": "code",
   "execution_count": 11,
   "metadata": {},
   "outputs": [
    {
     "data": {
      "text/html": [
       "<div>\n",
       "<style scoped>\n",
       "    .dataframe tbody tr th:only-of-type {\n",
       "        vertical-align: middle;\n",
       "    }\n",
       "\n",
       "    .dataframe tbody tr th {\n",
       "        vertical-align: top;\n",
       "    }\n",
       "\n",
       "    .dataframe thead th {\n",
       "        text-align: right;\n",
       "    }\n",
       "</style>\n",
       "<table border=\"1\" class=\"dataframe\">\n",
       "  <thead>\n",
       "    <tr style=\"text-align: right;\">\n",
       "      <th></th>\n",
       "      <th>Category</th>\n",
       "      <th>Status</th>\n",
       "      <th>Media</th>\n",
       "      <th>Age</th>\n",
       "      <th>Ward Office</th>\n",
       "    </tr>\n",
       "  </thead>\n",
       "  <tbody>\n",
       "    <tr>\n",
       "      <th>count</th>\n",
       "      <td>499.000000</td>\n",
       "      <td>499.000000</td>\n",
       "      <td>499.000000</td>\n",
       "      <td>499.000000</td>\n",
       "      <td>499.000000</td>\n",
       "    </tr>\n",
       "    <tr>\n",
       "      <th>mean</th>\n",
       "      <td>6.014028</td>\n",
       "      <td>0.014028</td>\n",
       "      <td>4.753507</td>\n",
       "      <td>74.034068</td>\n",
       "      <td>9.266533</td>\n",
       "    </tr>\n",
       "    <tr>\n",
       "      <th>std</th>\n",
       "      <td>1.537289</td>\n",
       "      <td>0.160957</td>\n",
       "      <td>1.130697</td>\n",
       "      <td>56.387508</td>\n",
       "      <td>5.089865</td>\n",
       "    </tr>\n",
       "    <tr>\n",
       "      <th>min</th>\n",
       "      <td>0.000000</td>\n",
       "      <td>0.000000</td>\n",
       "      <td>0.000000</td>\n",
       "      <td>0.000000</td>\n",
       "      <td>0.000000</td>\n",
       "    </tr>\n",
       "    <tr>\n",
       "      <th>25%</th>\n",
       "      <td>6.000000</td>\n",
       "      <td>0.000000</td>\n",
       "      <td>5.000000</td>\n",
       "      <td>31.000000</td>\n",
       "      <td>5.000000</td>\n",
       "    </tr>\n",
       "    <tr>\n",
       "      <th>50%</th>\n",
       "      <td>6.000000</td>\n",
       "      <td>0.000000</td>\n",
       "      <td>5.000000</td>\n",
       "      <td>59.000000</td>\n",
       "      <td>9.000000</td>\n",
       "    </tr>\n",
       "    <tr>\n",
       "      <th>75%</th>\n",
       "      <td>6.000000</td>\n",
       "      <td>0.000000</td>\n",
       "      <td>5.000000</td>\n",
       "      <td>90.000000</td>\n",
       "      <td>13.000000</td>\n",
       "    </tr>\n",
       "    <tr>\n",
       "      <th>max</th>\n",
       "      <td>13.000000</td>\n",
       "      <td>2.000000</td>\n",
       "      <td>8.000000</td>\n",
       "      <td>485.000000</td>\n",
       "      <td>18.000000</td>\n",
       "    </tr>\n",
       "  </tbody>\n",
       "</table>\n",
       "</div>"
      ],
      "text/plain": [
       "         Category      Status       Media         Age  Ward Office\n",
       "count  499.000000  499.000000  499.000000  499.000000   499.000000\n",
       "mean     6.014028    0.014028    4.753507   74.034068     9.266533\n",
       "std      1.537289    0.160957    1.130697   56.387508     5.089865\n",
       "min      0.000000    0.000000    0.000000    0.000000     0.000000\n",
       "25%      6.000000    0.000000    5.000000   31.000000     5.000000\n",
       "50%      6.000000    0.000000    5.000000   59.000000     9.000000\n",
       "75%      6.000000    0.000000    5.000000   90.000000    13.000000\n",
       "max     13.000000    2.000000    8.000000  485.000000    18.000000"
      ]
     },
     "execution_count": 11,
     "metadata": {},
     "output_type": "execute_result"
    }
   ],
   "source": [
    "df.describe()"
   ]
  },
  {
   "cell_type": "markdown",
   "metadata": {},
   "source": [
    "ONE WAY ANOVA for Category column"
   ]
  },
  {
   "cell_type": "code",
   "execution_count": 12,
   "metadata": {},
   "outputs": [
    {
     "name": "stdout",
     "output_type": "stream",
     "text": [
      "                df        sum_sq      mean_sq         F   PR(>F)\n",
      "C(Category)   13.0  7.575463e+04  5827.279303  1.874579  0.03072\n",
      "Residual     485.0  1.507662e+06  3108.581010       NaN      NaN\n"
     ]
    }
   ],
   "source": [
    "formula = 'Age ~ C(Category)'\n",
    "model = ols(formula, df).fit()\n",
    "aov_table = anova_lm(model)\n",
    "print(aov_table)"
   ]
  },
  {
   "cell_type": "markdown",
   "metadata": {},
   "source": [
    "Drawing a Point plot for Category column"
   ]
  },
  {
   "cell_type": "code",
   "execution_count": 13,
   "metadata": {},
   "outputs": [
    {
     "data": {
      "text/plain": [
       "<matplotlib.axes._subplots.AxesSubplot at 0x204223a6e80>"
      ]
     },
     "execution_count": 13,
     "metadata": {},
     "output_type": "execute_result"
    },
    {
     "data": {
      "image/png": "[encoded data removed]",
      "text/plain": [
       "<Figure size 432x288 with 1 Axes>"
      ]
     },
     "metadata": {
      "needs_background": "light"
     },
     "output_type": "display_data"
    }
   ],
   "source": [
    "sns.pointplot(x='Category', y='Age', data=df, ci=None)"
   ]
  },
  {
   "cell_type": "markdown",
   "metadata": {},
   "source": [
    "One WAY ANOVA for column Ward Office"
   ]
  },
  {
   "cell_type": "code",
   "execution_count": 16,
   "metadata": {},
   "outputs": [
    {
     "name": "stdout",
     "output_type": "stream",
     "text": [
      "             df        sum_sq      mean_sq         F   PR(>F)\n",
      "C(Media)    8.0  1.295379e+04  1619.223447  0.505214  0.85261\n",
      "Residual  490.0  1.570463e+06  3205.025782       NaN      NaN\n"
     ]
    }
   ],
   "source": [
    "formula = 'Age ~ C(Media)'\n",
    "model = ols(formula, df).fit()\n",
    "aov_table = anova_lm(model)\n",
    "print(aov_table)"
   ]
  },
  {
   "cell_type": "code",
   "execution_count": 17,
   "metadata": {},
   "outputs": [
    {
     "data": {
      "text/plain": [
       "<matplotlib.axes._subplots.AxesSubplot at 0x204223348e0>"
      ]
     },
     "execution_count": 17,
     "metadata": {},
     "output_type": "execute_result"
    },
    {
     "data": {
      "image/png": "[encoded data removed]",
      "text/plain": [
       "<Figure size 432x288 with 1 Axes>"
      ]
     },
     "metadata": {
      "needs_background": "light"
     },
     "output_type": "display_data"
    }
   ],
   "source": [
    "sns.pointplot(x='Media', y='Age', data=df, ci=None)"
   ]
  },
  {
   "cell_type": "code",
   "execution_count": 18,
   "metadata": {},
   "outputs": [],
   "source": [
    "# Copy all the predictor variables into X dataframe\n",
    "X = df.drop('Age', axis=1)\n",
    "\n",
    "# Copy target into the y dataframe. \n",
    "y = df[['Age']]"
   ]
  },
  {
   "cell_type": "code",
   "execution_count": 19,
   "metadata": {},
   "outputs": [
    {
     "data": {
      "text/html": [
       "<div>\n",
       "<style scoped>\n",
       "    .dataframe tbody tr th:only-of-type {\n",
       "        vertical-align: middle;\n",
       "    }\n",
       "\n",
       "    .dataframe tbody tr th {\n",
       "        vertical-align: top;\n",
       "    }\n",
       "\n",
       "    .dataframe thead th {\n",
       "        text-align: right;\n",
       "    }\n",
       "</style>\n",
       "<table border=\"1\" class=\"dataframe\">\n",
       "  <thead>\n",
       "    <tr style=\"text-align: right;\">\n",
       "      <th></th>\n",
       "      <th>Category</th>\n",
       "      <th>Status</th>\n",
       "      <th>Media</th>\n",
       "      <th>Ward Office</th>\n",
       "    </tr>\n",
       "  </thead>\n",
       "  <tbody>\n",
       "    <tr>\n",
       "      <th>0</th>\n",
       "      <td>6</td>\n",
       "      <td>0</td>\n",
       "      <td>5</td>\n",
       "      <td>18</td>\n",
       "    </tr>\n",
       "    <tr>\n",
       "      <th>1</th>\n",
       "      <td>6</td>\n",
       "      <td>0</td>\n",
       "      <td>5</td>\n",
       "      <td>5</td>\n",
       "    </tr>\n",
       "    <tr>\n",
       "      <th>2</th>\n",
       "      <td>6</td>\n",
       "      <td>0</td>\n",
       "      <td>5</td>\n",
       "      <td>9</td>\n",
       "    </tr>\n",
       "    <tr>\n",
       "      <th>3</th>\n",
       "      <td>6</td>\n",
       "      <td>0</td>\n",
       "      <td>5</td>\n",
       "      <td>18</td>\n",
       "    </tr>\n",
       "    <tr>\n",
       "      <th>4</th>\n",
       "      <td>6</td>\n",
       "      <td>0</td>\n",
       "      <td>5</td>\n",
       "      <td>11</td>\n",
       "    </tr>\n",
       "  </tbody>\n",
       "</table>\n",
       "</div>"
      ],
      "text/plain": [
       "   Category  Status  Media  Ward Office\n",
       "0         6       0      5           18\n",
       "1         6       0      5            5\n",
       "2         6       0      5            9\n",
       "3         6       0      5           18\n",
       "4         6       0      5           11"
      ]
     },
     "execution_count": 19,
     "metadata": {},
     "output_type": "execute_result"
    }
   ],
   "source": [
    "X.head()"
   ]
  },
  {
   "cell_type": "code",
   "execution_count": 21,
   "metadata": {},
   "outputs": [
    {
     "data": {
      "text/plain": [
       "StandardScaler()"
      ]
     },
     "execution_count": 21,
     "metadata": {},
     "output_type": "execute_result"
    }
   ],
   "source": [
    "#Scales the data. Essentially returns the z-scores of every attribute\n",
    "from sklearn.preprocessing import StandardScaler\n",
    "std_scale = StandardScaler()\n",
    "std_scale"
   ]
  },
  {
   "cell_type": "code",
   "execution_count": 24,
   "metadata": {},
   "outputs": [],
   "source": [
    "X['Category'] = std_scale.fit_transform(X[['Category']])"
   ]
  },
  {
   "cell_type": "code",
   "execution_count": 25,
   "metadata": {},
   "outputs": [],
   "source": [
    "X['Status'] = std_scale.fit_transform(X[['Status']])"
   ]
  },
  {
   "cell_type": "code",
   "execution_count": 26,
   "metadata": {},
   "outputs": [],
   "source": [
    "X['Media'] = std_scale.fit_transform(X[['Media']])"
   ]
  },
  {
   "cell_type": "code",
   "execution_count": 27,
   "metadata": {},
   "outputs": [],
   "source": [
    "X['Ward Office'] = std_scale.fit_transform(X[['Ward Office']])"
   ]
  },
  {
   "cell_type": "code",
   "execution_count": 28,
   "metadata": {},
   "outputs": [
    {
     "data": {
      "text/html": [
       "<div>\n",
       "<style scoped>\n",
       "    .dataframe tbody tr th:only-of-type {\n",
       "        vertical-align: middle;\n",
       "    }\n",
       "\n",
       "    .dataframe tbody tr th {\n",
       "        vertical-align: top;\n",
       "    }\n",
       "\n",
       "    .dataframe thead th {\n",
       "        text-align: right;\n",
       "    }\n",
       "</style>\n",
       "<table border=\"1\" class=\"dataframe\">\n",
       "  <thead>\n",
       "    <tr style=\"text-align: right;\">\n",
       "      <th></th>\n",
       "      <th>Category</th>\n",
       "      <th>Status</th>\n",
       "      <th>Media</th>\n",
       "      <th>Ward Office</th>\n",
       "      <th>Apps</th>\n",
       "    </tr>\n",
       "  </thead>\n",
       "  <tbody>\n",
       "    <tr>\n",
       "      <th>0</th>\n",
       "      <td>-0.009134</td>\n",
       "      <td>-0.087241</td>\n",
       "      <td>0.21822</td>\n",
       "      <td>1.717576</td>\n",
       "      <td>-0.009134</td>\n",
       "    </tr>\n",
       "    <tr>\n",
       "      <th>1</th>\n",
       "      <td>-0.009134</td>\n",
       "      <td>-0.087241</td>\n",
       "      <td>0.21822</td>\n",
       "      <td>-0.839082</td>\n",
       "      <td>-0.009134</td>\n",
       "    </tr>\n",
       "    <tr>\n",
       "      <th>2</th>\n",
       "      <td>-0.009134</td>\n",
       "      <td>-0.087241</td>\n",
       "      <td>0.21822</td>\n",
       "      <td>-0.052418</td>\n",
       "      <td>-0.009134</td>\n",
       "    </tr>\n",
       "    <tr>\n",
       "      <th>3</th>\n",
       "      <td>-0.009134</td>\n",
       "      <td>-0.087241</td>\n",
       "      <td>0.21822</td>\n",
       "      <td>1.717576</td>\n",
       "      <td>-0.009134</td>\n",
       "    </tr>\n",
       "    <tr>\n",
       "      <th>4</th>\n",
       "      <td>-0.009134</td>\n",
       "      <td>-0.087241</td>\n",
       "      <td>0.21822</td>\n",
       "      <td>0.340914</td>\n",
       "      <td>-0.009134</td>\n",
       "    </tr>\n",
       "  </tbody>\n",
       "</table>\n",
       "</div>"
      ],
      "text/plain": [
       "   Category    Status    Media  Ward Office      Apps\n",
       "0 -0.009134 -0.087241  0.21822     1.717576 -0.009134\n",
       "1 -0.009134 -0.087241  0.21822    -0.839082 -0.009134\n",
       "2 -0.009134 -0.087241  0.21822    -0.052418 -0.009134\n",
       "3 -0.009134 -0.087241  0.21822     1.717576 -0.009134\n",
       "4 -0.009134 -0.087241  0.21822     0.340914 -0.009134"
      ]
     },
     "execution_count": 28,
     "metadata": {},
     "output_type": "execute_result"
    }
   ],
   "source": [
    "X.head()"
   ]
  },
  {
   "cell_type": "code",
   "execution_count": 30,
   "metadata": {},
   "outputs": [
    {
     "name": "stderr",
     "output_type": "stream",
     "text": [
      "<ipython-input-30-5d2d393c7dae>:1: SettingWithCopyWarning: \n",
      "A value is trying to be set on a copy of a slice from a DataFrame.\n",
      "Try using .loc[row_indexer,col_indexer] = value instead\n",
      "\n",
      "See the caveats in the documentation: https://pandas.pydata.org/pandas-docs/stable/user_guide/indexing.html#returning-a-view-versus-a-copy\n",
      "  y['Age'] = std_scale.fit_transform(y[['Age']])\n"
     ]
    }
   ],
   "source": [
    "y['Age'] = std_scale.fit_transform(y[['Age']])"
   ]
  },
  {
   "cell_type": "code",
   "execution_count": 31,
   "metadata": {},
   "outputs": [
    {
     "data": {
      "text/html": [
       "<div>\n",
       "<style scoped>\n",
       "    .dataframe tbody tr th:only-of-type {\n",
       "        vertical-align: middle;\n",
       "    }\n",
       "\n",
       "    .dataframe tbody tr th {\n",
       "        vertical-align: top;\n",
       "    }\n",
       "\n",
       "    .dataframe thead th {\n",
       "        text-align: right;\n",
       "    }\n",
       "</style>\n",
       "<table border=\"1\" class=\"dataframe\">\n",
       "  <thead>\n",
       "    <tr style=\"text-align: right;\">\n",
       "      <th></th>\n",
       "      <th>Age</th>\n",
       "    </tr>\n",
       "  </thead>\n",
       "  <tbody>\n",
       "    <tr>\n",
       "      <th>0</th>\n",
       "      <td>-0.763950</td>\n",
       "    </tr>\n",
       "    <tr>\n",
       "      <th>1</th>\n",
       "      <td>-0.763950</td>\n",
       "    </tr>\n",
       "    <tr>\n",
       "      <th>2</th>\n",
       "      <td>-0.266888</td>\n",
       "    </tr>\n",
       "    <tr>\n",
       "      <th>3</th>\n",
       "      <td>-0.763950</td>\n",
       "    </tr>\n",
       "    <tr>\n",
       "      <th>4</th>\n",
       "      <td>-0.266888</td>\n",
       "    </tr>\n",
       "  </tbody>\n",
       "</table>\n",
       "</div>"
      ],
      "text/plain": [
       "        Age\n",
       "0 -0.763950\n",
       "1 -0.763950\n",
       "2 -0.266888\n",
       "3 -0.763950\n",
       "4 -0.266888"
      ]
     },
     "execution_count": 31,
     "metadata": {},
     "output_type": "execute_result"
    }
   ],
   "source": [
    "y.head()"
   ]
  },
  {
   "cell_type": "code",
   "execution_count": 32,
   "metadata": {},
   "outputs": [],
   "source": [
    "# Split X and y into training and test set in 75:25 ratio\n",
    "from sklearn.model_selection import train_test_split\n",
    "X_train, X_test, y_train, y_test = train_test_split(X, y, test_size=0.25 , random_state=1)"
   ]
  },
  {
   "cell_type": "code",
   "execution_count": 34,
   "metadata": {},
   "outputs": [],
   "source": [
    "import numpy as np   \n",
    "import pandas as pd    \n",
    "import seaborn as sns\n",
    "from sklearn.linear_model import LinearRegression\n",
    "from sklearn import metrics\n",
    "import matplotlib.pyplot as plt   \n",
    "import matplotlib.style"
   ]
  },
  {
   "cell_type": "code",
   "execution_count": 35,
   "metadata": {},
   "outputs": [
    {
     "data": {
      "text/plain": [
       "LinearRegression()"
      ]
     },
     "execution_count": 35,
     "metadata": {},
     "output_type": "execute_result"
    }
   ],
   "source": [
    "# invoke the LinearRegression function and find the bestfit model on training data\n",
    "\n",
    "regression_model = LinearRegression()\n",
    "regression_model.fit(X_train, y_train)"
   ]
  },
  {
   "cell_type": "code",
   "execution_count": 36,
   "metadata": {},
   "outputs": [
    {
     "name": "stdout",
     "output_type": "stream",
     "text": [
      "The coefficient for Category is 23055669678673.2\n",
      "The coefficient for Status is -0.017179220190593418\n",
      "The coefficient for Media is 0.016711788949380364\n",
      "The coefficient for Ward Office is -0.04153775728009939\n",
      "The coefficient for Apps is -23055669678673.14\n"
     ]
    }
   ],
   "source": [
    "# Let us explore the coefficients for each of the independent attributes\n",
    "\n",
    "for idx, col_name in enumerate(X_train.columns):\n",
    "    print(\"The coefficient for {} is {}\".format(col_name, regression_model.coef_[0][idx]))"
   ]
  },
  {
   "cell_type": "code",
   "execution_count": 37,
   "metadata": {},
   "outputs": [
    {
     "name": "stdout",
     "output_type": "stream",
     "text": [
      "The intercept for our model is 0.02929040511782447\n"
     ]
    }
   ],
   "source": [
    "# Let us check the intercept for the model\n",
    "\n",
    "intercept = regression_model.intercept_[0]\n",
    "\n",
    "print(\"The intercept for our model is {}\".format(intercept))"
   ]
  },
  {
   "cell_type": "code",
   "execution_count": 38,
   "metadata": {},
   "outputs": [
    {
     "data": {
      "text/plain": [
       "0.0037303996320994237"
      ]
     },
     "execution_count": 38,
     "metadata": {},
     "output_type": "execute_result"
    }
   ],
   "source": [
    "# R square on training data\n",
    "regression_model.score(X_train, y_train)"
   ]
  },
  {
   "cell_type": "code",
   "execution_count": 39,
   "metadata": {},
   "outputs": [
    {
     "data": {
      "text/plain": [
       "1.065421919627963"
      ]
     },
     "execution_count": 39,
     "metadata": {},
     "output_type": "execute_result"
    }
   ],
   "source": [
    "#RMSE on Training data\n",
    "predicted_train=regression_model.fit(X_train, y_train).predict(X_train)\n",
    "np.sqrt(metrics.mean_squared_error(y_train,predicted_train))"
   ]
  },
  {
   "cell_type": "code",
   "execution_count": 40,
   "metadata": {},
   "outputs": [
    {
     "data": {
      "text/plain": [
       "0.7635237237551484"
      ]
     },
     "execution_count": 40,
     "metadata": {},
     "output_type": "execute_result"
    }
   ],
   "source": [
    "#RMSE on Testing data\n",
    "predicted_test=regression_model.fit(X_train, y_train).predict(X_test)\n",
    "np.sqrt(metrics.mean_squared_error(y_test,predicted_test))"
   ]
  },
  {
   "cell_type": "markdown",
   "metadata": {},
   "source": [
    "Linear Regression using statsmodels"
   ]
  },
  {
   "cell_type": "code",
   "execution_count": 41,
   "metadata": {},
   "outputs": [
    {
     "data": {
      "text/html": [
       "<div>\n",
       "<style scoped>\n",
       "    .dataframe tbody tr th:only-of-type {\n",
       "        vertical-align: middle;\n",
       "    }\n",
       "\n",
       "    .dataframe tbody tr th {\n",
       "        vertical-align: top;\n",
       "    }\n",
       "\n",
       "    .dataframe thead th {\n",
       "        text-align: right;\n",
       "    }\n",
       "</style>\n",
       "<table border=\"1\" class=\"dataframe\">\n",
       "  <thead>\n",
       "    <tr style=\"text-align: right;\">\n",
       "      <th></th>\n",
       "      <th>Category</th>\n",
       "      <th>Status</th>\n",
       "      <th>Media</th>\n",
       "      <th>Ward Office</th>\n",
       "      <th>Apps</th>\n",
       "      <th>Age</th>\n",
       "    </tr>\n",
       "  </thead>\n",
       "  <tbody>\n",
       "    <tr>\n",
       "      <th>495</th>\n",
       "      <td>-2.613729</td>\n",
       "      <td>-0.087241</td>\n",
       "      <td>-4.208268</td>\n",
       "      <td>0.930912</td>\n",
       "      <td>-2.613729</td>\n",
       "      <td>-0.266888</td>\n",
       "    </tr>\n",
       "    <tr>\n",
       "      <th>233</th>\n",
       "      <td>-0.009134</td>\n",
       "      <td>-0.087241</td>\n",
       "      <td>0.218220</td>\n",
       "      <td>0.340914</td>\n",
       "      <td>-0.009134</td>\n",
       "      <td>-0.763950</td>\n",
       "    </tr>\n",
       "    <tr>\n",
       "      <th>80</th>\n",
       "      <td>-0.009134</td>\n",
       "      <td>-0.087241</td>\n",
       "      <td>0.218220</td>\n",
       "      <td>-0.839082</td>\n",
       "      <td>-0.009134</td>\n",
       "      <td>-0.763950</td>\n",
       "    </tr>\n",
       "    <tr>\n",
       "      <th>46</th>\n",
       "      <td>-0.009134</td>\n",
       "      <td>-0.087241</td>\n",
       "      <td>0.218220</td>\n",
       "      <td>1.324244</td>\n",
       "      <td>-0.009134</td>\n",
       "      <td>-0.763950</td>\n",
       "    </tr>\n",
       "    <tr>\n",
       "      <th>142</th>\n",
       "      <td>-0.009134</td>\n",
       "      <td>-0.087241</td>\n",
       "      <td>0.218220</td>\n",
       "      <td>1.717576</td>\n",
       "      <td>-0.009134</td>\n",
       "      <td>-0.266888</td>\n",
       "    </tr>\n",
       "  </tbody>\n",
       "</table>\n",
       "</div>"
      ],
      "text/plain": [
       "     Category    Status     Media  Ward Office      Apps       Age\n",
       "495 -2.613729 -0.087241 -4.208268     0.930912 -2.613729 -0.266888\n",
       "233 -0.009134 -0.087241  0.218220     0.340914 -0.009134 -0.763950\n",
       "80  -0.009134 -0.087241  0.218220    -0.839082 -0.009134 -0.763950\n",
       "46  -0.009134 -0.087241  0.218220     1.324244 -0.009134 -0.763950\n",
       "142 -0.009134 -0.087241  0.218220     1.717576 -0.009134 -0.266888"
      ]
     },
     "execution_count": 41,
     "metadata": {},
     "output_type": "execute_result"
    }
   ],
   "source": [
    "# concatenate X and y into a single dataframe\n",
    "data_train = pd.concat([X_train, y_train], axis=1)\n",
    "data_test=pd.concat([X_test,y_test],axis=1)\n",
    "data_train.head()"
   ]
  },
  {
   "cell_type": "code",
   "execution_count": 42,
   "metadata": {},
   "outputs": [],
   "source": [
    "expr= 'Age ~ Category + Status + Media'"
   ]
  },
  {
   "cell_type": "code",
   "execution_count": 43,
   "metadata": {},
   "outputs": [
    {
     "data": {
      "text/plain": [
       "Intercept    0.030800\n",
       "Category     0.057404\n",
       "Status      -0.019565\n",
       "Media        0.001147\n",
       "dtype: float64"
      ]
     },
     "execution_count": 43,
     "metadata": {},
     "output_type": "execute_result"
    }
   ],
   "source": [
    "import statsmodels.formula.api as smf\n",
    "lm1 = smf.ols(formula= expr, data = data_train).fit()\n",
    "lm1.params"
   ]
  },
  {
   "cell_type": "code",
   "execution_count": 44,
   "metadata": {},
   "outputs": [
    {
     "name": "stdout",
     "output_type": "stream",
     "text": [
      "                            OLS Regression Results                            \n",
      "==============================================================================\n",
      "Dep. Variable:                    Age   R-squared:                       0.002\n",
      "Model:                            OLS   Adj. R-squared:                 -0.006\n",
      "Method:                 Least Squares   F-statistic:                    0.2989\n",
      "Date:                Wed, 24 Mar 2021   Prob (F-statistic):              0.826\n",
      "Time:                        13:16:33   Log-Likelihood:                -554.63\n",
      "No. Observations:                 374   AIC:                             1117.\n",
      "Df Residuals:                     370   BIC:                             1133.\n",
      "Df Model:                           3                                         \n",
      "Covariance Type:            nonrobust                                         \n",
      "==============================================================================\n",
      "                 coef    std err          t      P>|t|      [0.025      0.975]\n",
      "------------------------------------------------------------------------------\n",
      "Intercept      0.0308      0.056      0.555      0.579      -0.078       0.140\n",
      "Category       0.0574      0.063      0.917      0.360      -0.066       0.180\n",
      "Status        -0.0196      0.050     -0.394      0.694      -0.117       0.078\n",
      "Media          0.0011      0.064      0.018      0.986      -0.124       0.126\n",
      "==============================================================================\n",
      "Omnibus:                      259.466   Durbin-Watson:                   2.039\n",
      "Prob(Omnibus):                  0.000   Jarque-Bera (JB):             2442.642\n",
      "Skew:                           2.952   Prob(JB):                         0.00\n",
      "Kurtosis:                      14.041   Cond. No.                         1.44\n",
      "==============================================================================\n",
      "\n",
      "Warnings:\n",
      "[1] Standard Errors assume that the covariance matrix of the errors is correctly specified.\n"
     ]
    }
   ],
   "source": [
    "print(lm1.summary())"
   ]
  },
  {
   "cell_type": "code",
   "execution_count": 45,
   "metadata": {},
   "outputs": [],
   "source": [
    "# Calculate MSE\n",
    "mse = np.mean((lm1.predict(data_train.drop('Age',axis=1))-data_train['Age'])**2)"
   ]
  },
  {
   "cell_type": "code",
   "execution_count": 46,
   "metadata": {},
   "outputs": [
    {
     "data": {
      "text/plain": [
       "1.0661237670358916"
      ]
     },
     "execution_count": 46,
     "metadata": {},
     "output_type": "execute_result"
    }
   ],
   "source": [
    "#Root Mean Squared Error - RMSE\n",
    "np.sqrt(mse)"
   ]
  },
  {
   "cell_type": "code",
   "execution_count": 47,
   "metadata": {},
   "outputs": [
    {
     "data": {
      "text/plain": [
       "1.0718711066154656"
      ]
     },
     "execution_count": 47,
     "metadata": {},
     "output_type": "execute_result"
    }
   ],
   "source": [
    "np.sqrt(lm1.mse_resid) #another way"
   ]
  },
  {
   "cell_type": "code",
   "execution_count": 48,
   "metadata": {},
   "outputs": [],
   "source": [
    "# Prediction on Test data\n",
    "y_pred = lm1.predict(data_test)"
   ]
  },
  {
   "cell_type": "code",
   "execution_count": 49,
   "metadata": {},
   "outputs": [
    {
     "data": {
      "image/png": "[encoded data removed]",
      "text/plain": [
       "<Figure size 432x288 with 1 Axes>"
      ]
     },
     "metadata": {
      "needs_background": "light"
     },
     "output_type": "display_data"
    }
   ],
   "source": [
    "plt.scatter(y_test['Age'], y_pred)\n",
    "plt.show()"
   ]
  },
  {
   "cell_type": "code",
   "execution_count": null,
   "metadata": {},
   "outputs": [],
   "source": []
  }
 ],
 "metadata": {
  "kernelspec": {
   "display_name": "Python 3",
   "language": "python",
   "name": "python3"
  },
  "language_info": {
   "codemirror_mode": {
    "name": "ipython",
    "version": 3
   },
   "file_extension": ".py",
   "mimetype": "text/x-python",
   "name": "python",
   "nbconvert_exporter": "python",
   "pygments_lexer": "ipython3",
   "version": "3.8.8"
  }
 },
 "nbformat": 4,
 "nbformat_minor": 4
}
